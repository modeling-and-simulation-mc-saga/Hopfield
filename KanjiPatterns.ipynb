{
 "cells": [
  {
   "cell_type": "code",
   "execution_count": null,
   "metadata": {},
   "outputs": [],
   "source": [
    "import matplotlib.pyplot as plt\n",
    "import math\n",
    "from typing import Callable\n",
    "import sys\n",
    "sys.path.append(\"../lib\")\n",
    "from pylib import pltInit,Point,DataFile"
   ]
  },
  {
   "cell_type": "code",
   "execution_count": null,
   "metadata": {},
   "outputs": [],
   "source": [
    "plt.rcParams['figure.subplot.left']=0.2"
   ]
  },
  {
   "cell_type": "code",
   "execution_count": null,
   "metadata": {},
   "outputs": [],
   "source": [
    "models = {\n",
    "    'SimplePattern':'One pattern at zero temperature',\n",
    "    'KanjiPatterns':'10 patterns at zero temperature',\n",
    "    'KanjiPatternsFinite':'10 patterns at finite temperature'\n",
    "}\n",
    "params = {\n",
    "    'SimplePattern':(10,-200,0),\n",
    "    'KanjiPatterns':(10,-600,-200),\n",
    "    'KanjiPatternsFinite':(10000,-1000,100)\n",
    "}"
   ]
  },
  {
   "cell_type": "code",
   "execution_count": null,
   "metadata": {},
   "outputs": [],
   "source": [
    "def draw(name:str):\n",
    "    xMax, yMin,yMax = params[name]\n",
    "    fig,ax=plt.subplots(2,1,figsize=(10,10),facecolor='white',sharex=True)\n",
    "    plt.suptitle(models[name])\n",
    "    input = name+'.txt'\n",
    "    \n",
    "    ax[0].set_xlim(0,xMax)\n",
    "    ax[0].set_ylabel('$m$')\n",
    "    if name=='SimplePattern':\n",
    "        xl, yl = DataFile(input).readData()\n",
    "        ax[0].plot(xl,yl,linewidth=1)    \n",
    "    else:    \n",
    "        for k in range(10):\n",
    "            xl, yl = DataFile(input).readData(y=k+1)\n",
    "            ax[0].plot(xl,yl,linewidth=1)\n",
    "\n",
    "    ax[1].set_xlim(0,xMax)\n",
    "    ax[1].set_ylim(yMin,yMax)\n",
    "    ax[1].set_xlabel('$t$')\n",
    "    ax[1].set_ylabel('$E$')\n",
    "    if name=='SimplePattern':\n",
    "        xl, yl = DataFile(input).readData(y=2)\n",
    "    else:\n",
    "        xl, yl = DataFile(input).readData(y=11)\n",
    "    ax[1].plot(xl,yl,linewidth=1)\n",
    "    plt.savefig(input.replace('.txt','.pdf'))\n",
    "#    plt.show()"
   ]
  },
  {
   "cell_type": "code",
   "execution_count": null,
   "metadata": {},
   "outputs": [],
   "source": [
    "pltInit()\n",
    "name = 'SimplePattern'\n",
    "draw(name)"
   ]
  }
 ],
 "metadata": {
  "kernelspec": {
   "display_name": "myenv",
   "language": "python",
   "name": "python3"
  },
  "language_info": {
   "codemirror_mode": {
    "name": "ipython",
    "version": 3
   },
   "file_extension": ".py",
   "mimetype": "text/x-python",
   "name": "python",
   "nbconvert_exporter": "python",
   "pygments_lexer": "ipython3",
   "version": "3.10.8"
  },
  "orig_nbformat": 4,
  "vscode": {
   "interpreter": {
    "hash": "b3b804b6b7a7d9b475cf928428dd1242016eacc24c47853aaf0f8d1d2228aa39"
   }
  }
 },
 "nbformat": 4,
 "nbformat_minor": 2
}
